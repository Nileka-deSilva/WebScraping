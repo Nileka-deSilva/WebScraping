{
 "cells": [
  {
   "cell_type": "markdown",
   "metadata": {},
   "source": [
    "# Scrape Online Travel Agent (OTA) Property Prices\n",
    "\n",
    "@Nileka add a description here as to what this notebook offers\n",
    "\n",
    "### Execute the cell below once to turn off debugging"
   ]
  },
  {
   "cell_type": "code",
   "execution_count": 71,
   "metadata": {},
   "outputs": [],
   "source": [
    "'''\n",
    "    WARNING CONTROL to display or ignore all warnings\n",
    "'''\n",
    "import warnings; warnings.simplefilter('ignore')     #switch betweeb 'default' and 'ignore'\n",
    "\n",
    "''' Set debug flag to view extended error messages; else set it to False to turn off debugging mode '''\n",
    "debug = True"
   ]
  },
  {
   "cell_type": "markdown",
   "metadata": {},
   "source": [
    "## Initialize the OTA scrape class"
   ]
  },
  {
   "cell_type": "code",
   "execution_count": 164,
   "metadata": {},
   "outputs": [
    {
     "name": "stdout",
     "output_type": "stream",
     "text": [
      "All packages in ExtractLoadTransform loaded successfully!\n"
     ]
    }
   ],
   "source": [
    "import sys\n",
    "sys.path.insert(1, '../lib')\n",
    "import otaWebScraper as otaws\n",
    "import datetime\n",
    "\n",
    "if debug:\n",
    "    import importlib\n",
    "    otaws = importlib.reload(otaws)\n",
    "    \n",
    "clsScraper = otaws.OTAWebScraper()"
   ]
  },
  {
   "cell_type": "markdown",
   "metadata": {},
   "source": [
    "## Initialize the set of OTA URL for Scraping"
   ]
  },
  {
   "cell_type": "code",
   "execution_count": 171,
   "metadata": {},
   "outputs": [
    {
     "name": "stdout",
     "output_type": "stream",
     "text": [
      "Loaded 1 properties to begin scraping OTA data.\n",
      "Processing booking.com ...\n",
      "Completed parameterizing urls with 63 instances.\n"
     ]
    }
   ],
   "source": [
    "from datetime import date\n",
    "\n",
    "path = \"../data\"\n",
    "file = \"properties.json\"\n",
    "start_date = date(2022,8,30)\n",
    "end_date = date(2022,9,2)\n",
    "\n",
    "scrape_crietia_dict = {\"pageOffset\":25,\n",
    "                        \"pageUpperLimit\":150,\n",
    "                        \"startDate\": start_date,\n",
    "                        \"endDate\" : end_date,\n",
    "             }\n",
    "\n",
    "_, _ota_url_parameterized_list  = clsScraper.build_scrape_url_list(dirPath=path, fileName=file, **scrape_crietia_dict)\n",
    "\n",
    "#print(_ota_url_parameterized_list)\n",
    "print(\"Completed parameterizing urls with %d instances.\" % (len(_ota_url_parameterized_list)))"
   ]
  },
  {
   "cell_type": "code",
   "execution_count": 74,
   "metadata": {},
   "outputs": [
    {
     "name": "stdout",
     "output_type": "stream",
     "text": [
      "        variable   tag                   code          ota\n",
      "0  content_block   div            .d20f4628d0  booking.com\n",
      "0  property_name  span  fcab3ed991 a23c043802  booking.com\n",
      "0      room_type  span             df597226dd  booking.com\n",
      "0      room_rate   div  fcab3ed991 bd73d13072  booking.com\n",
      "0   review_score   div  b5cd09854e d10a6220b4  booking.com\n",
      "0       location   div             a1fbd102d9  booking.com\n",
      "0          Other   div             d22a7c133b  booking.com\n"
     ]
    }
   ],
   "source": [
    "path = \"../data\"\n",
    "file = \"properties.json\"\n",
    "property_dict = clsScraper.load_ota_list(dirPath=path, fileName=file)\n",
    "_scrape_tags_df = clsScraper.get_scrape_html_tags(property_dict)\n",
    "print(_scrape_tags_df)"
   ]
  },
  {
   "cell_type": "code",
   "execution_count": 177,
   "metadata": {},
   "outputs": [
    {
     "name": "stdout",
     "output_type": "stream",
     "text": [
      "[Error]Class <WebScraper> Function <scrape_data_to_csv> 'NoneType' object has no attribute 'text'\n",
      "Traceback (most recent call last):\n",
      "  File \"/home/nuwan/workspace/WebScraping/notebooks/../lib/otaWebScraper.py\", line 428, in _scrape_bookings_to_csv\n",
      "    room_type = _list.find('span', class_='df597226dd').text\n",
      "AttributeError: 'NoneType' object has no attribute 'text'\n",
      "\n",
      "[Error]Class <WebScraper> Function <scrape_data_to_csv> 'NoneType' object has no attribute 'text'\n",
      "Traceback (most recent call last):\n",
      "  File \"/home/nuwan/workspace/WebScraping/notebooks/../lib/otaWebScraper.py\", line 428, in _scrape_bookings_to_csv\n",
      "    room_type = _list.find('span', class_='df597226dd').text\n",
      "AttributeError: 'NoneType' object has no attribute 'text'\n",
      "\n",
      "[Error]Class <WebScraper> Function <scrape_data_to_csv> 'NoneType' object has no attribute 'text'\n",
      "Traceback (most recent call last):\n",
      "  File \"/home/nuwan/workspace/WebScraping/notebooks/../lib/otaWebScraper.py\", line 428, in _scrape_bookings_to_csv\n",
      "    room_type = _list.find('span', class_='df597226dd').text\n",
      "AttributeError: 'NoneType' object has no attribute 'text'\n",
      "\n",
      "[Error]Class <WebScraper> Function <scrape_data_to_csv> 'NoneType' object has no attribute 'text'\n",
      "Traceback (most recent call last):\n",
      "  File \"/home/nuwan/workspace/WebScraping/notebooks/../lib/otaWebScraper.py\", line 428, in _scrape_bookings_to_csv\n",
      "    room_type = _list.find('span', class_='df597226dd').text\n",
      "AttributeError: 'NoneType' object has no attribute 'text'\n",
      "\n",
      "[Error]Class <WebScraper> Function <scrape_data_to_csv> 'NoneType' object has no attribute 'text'\n",
      "Traceback (most recent call last):\n",
      "  File \"/home/nuwan/workspace/WebScraping/notebooks/../lib/otaWebScraper.py\", line 428, in _scrape_bookings_to_csv\n",
      "    room_type = _list.find('span', class_='df597226dd').text\n",
      "AttributeError: 'NoneType' object has no attribute 'text'\n",
      "\n",
      "[Error]Class <WebScraper> Function <scrape_data_to_csv> 'NoneType' object has no attribute 'text'\n",
      "Traceback (most recent call last):\n",
      "  File \"/home/nuwan/workspace/WebScraping/notebooks/../lib/otaWebScraper.py\", line 428, in _scrape_bookings_to_csv\n",
      "    room_type = _list.find('span', class_='df597226dd').text\n",
      "AttributeError: 'NoneType' object has no attribute 'text'\n",
      "\n",
      "[Error]Class <WebScraper> Function <scrape_data_to_csv> 'NoneType' object has no attribute 'text'\n",
      "Traceback (most recent call last):\n",
      "  File \"/home/nuwan/workspace/WebScraping/notebooks/../lib/otaWebScraper.py\", line 428, in _scrape_bookings_to_csv\n",
      "    room_type = _list.find('span', class_='df597226dd').text\n",
      "AttributeError: 'NoneType' object has no attribute 'text'\n",
      "\n",
      "[Error]Class <WebScraper> Function <scrape_data_to_csv> 'NoneType' object has no attribute 'text'\n",
      "Traceback (most recent call last):\n",
      "  File \"/home/nuwan/workspace/WebScraping/notebooks/../lib/otaWebScraper.py\", line 428, in _scrape_bookings_to_csv\n",
      "    room_type = _list.find('span', class_='df597226dd').text\n",
      "AttributeError: 'NoneType' object has no attribute 'text'\n",
      "\n",
      "[Error]Class <WebScraper> Function <scrape_data_to_csv> 'NoneType' object has no attribute 'text'\n",
      "Traceback (most recent call last):\n",
      "  File \"/home/nuwan/workspace/WebScraping/notebooks/../lib/otaWebScraper.py\", line 428, in _scrape_bookings_to_csv\n",
      "    room_type = _list.find('span', class_='df597226dd').text\n",
      "AttributeError: 'NoneType' object has no attribute 'text'\n",
      "\n",
      "[Error]Class <WebScraper> Function <scrape_data_to_csv> 'NoneType' object has no attribute 'text'\n",
      "Traceback (most recent call last):\n",
      "  File \"/home/nuwan/workspace/WebScraping/notebooks/../lib/otaWebScraper.py\", line 428, in _scrape_bookings_to_csv\n",
      "    room_type = _list.find('span', class_='df597226dd').text\n",
      "AttributeError: 'NoneType' object has no attribute 'text'\n",
      "\n"
     ]
    }
   ],
   "source": [
    "import os\n",
    "from datetime import date, datetime\n",
    "import pandas as pd\n",
    "\n",
    "path = \"../data/prices\"\n",
    "\n",
    "_today = date.today()\n",
    "_hour = datetime.now().hour\n",
    "_minute = datetime.now().minute\n",
    "if _minute < 30:\n",
    "    _minute = 0\n",
    "else:\n",
    "    _minute = 30\n",
    "_s3block = \"../data/property/rates/\"\n",
    "''' folder is a concaternation of date hour and minute; where minute < 30 --> 0 and 30 otherwise'''\n",
    "_s3object = _s3block+str(_today)+\"-\"+str(_hour)+\"-\"+str(_minute)\n",
    "#print(_s3object)\n",
    "\n",
    "if not os.path.exists(_s3object):\n",
    "    os.makedirs(_s3object)\n",
    "#fPrefix = \"Price\"\n",
    "counter = 0\n",
    "_ota_tags_df = pd.DataFrame()\n",
    "for ota_dict in _ota_url_parameterized_list:\n",
    "    _ota_tags_df = _scrape_tags_df.loc[_scrape_tags_df['ota']==ota_dict['ota']]\n",
    "    counter += 1\n",
    "    ''' file name is concaternation of ota name + location + checkin date + page offset and .csv file extension'''\n",
    "    _fname = ota_dict['ota']+\".\"+\\\n",
    "            ota_dict['location']+\".\"+\\\n",
    "            str(ota_dict['checkin'])+\".\"+\\\n",
    "            str(ota_dict['page_offset']).zfill(3)+\\\n",
    "            \".csv\"\n",
    "    _fname=_fname.replace(\" \",\".\")\n",
    "\n",
    "    if ota_dict['ota'] == 'booking.com':\n",
    "        saveTo = clsScraper._scrape_bookings_to_csv(ota_dict['url'],ota_dict['checkin'],_fname, _s3object)\n",
    "    else:\n",
    "        print(\"Define a scraper function for %s, no data saved\" % ota_dict['ota'])\n",
    "#    _scraped_data_df = clsScraper.scrape_data_to_csv(ota_dict['url'],_ota_tags_df,_fname, _s3object)\n",
    "#    _scraped_data_df = clsScraper._scrape_data_to_csv(ota_dict['url'],_fname, _s3object)\n"
   ]
  },
  {
   "cell_type": "code",
   "execution_count": 175,
   "metadata": {},
   "outputs": [
    {
     "name": "stdout",
     "output_type": "stream",
     "text": [
      "2022-08-30\n"
     ]
    }
   ],
   "source": [
    "print(str(ota_dict['checkin']))"
   ]
  },
  {
   "cell_type": "code",
   "execution_count": 136,
   "metadata": {},
   "outputs": [
    {
     "name": "stdout",
     "output_type": "stream",
     "text": [
      "                            room_type review_score  \\\n",
      "0   Grand Deluxe King Bed Non-Smoking          8.0   \n",
      "0   Grand Deluxe King Bed Non-Smoking          8.0   \n",
      "0   Grand Deluxe King Bed Non-Smoking          8.0   \n",
      "0   Grand Deluxe King Bed Non-Smoking          8.0   \n",
      "0   Grand Deluxe King Bed Non-Smoking          8.0   \n",
      "..                                ...          ...   \n",
      "0   Two Queen Bed Suite - Non-Smoking          NaN   \n",
      "0   Two Queen Bed Suite - Non-Smoking          NaN   \n",
      "0   Two Queen Bed Suite - Non-Smoking          NaN   \n",
      "0   Two Queen Bed Suite - Non-Smoking          NaN   \n",
      "0   Two Queen Bed Suite - Non-Smoking          NaN   \n",
      "\n",
      "                                             location  \\\n",
      "0   Downtown Las Vegas - Fremont Street, Las Vegas...   \n",
      "0   Downtown Las Vegas - Fremont Street, Las Vegas...   \n",
      "0   Downtown Las Vegas - Fremont Street, Las Vegas...   \n",
      "0   Downtown Las Vegas - Fremont Street, Las Vegas...   \n",
      "0   Downtown Las Vegas - Fremont Street, Las Vegas...   \n",
      "..                                                ...   \n",
      "0                                                 NaN   \n",
      "0                                                 NaN   \n",
      "0                                                 NaN   \n",
      "0                                                 NaN   \n",
      "0                                                 NaN   \n",
      "\n",
      "                                                Other  \n",
      "0   Grand Deluxe King Bed Non-Smoking1 extra-large...  \n",
      "0   Grand Deluxe King Bed Non-Smoking1 extra-large...  \n",
      "0   Grand Deluxe King Bed Non-Smoking1 extra-large...  \n",
      "0   Grand Deluxe King Bed Non-Smoking1 extra-large...  \n",
      "0   Grand Deluxe King Bed Non-Smoking1 extra-large...  \n",
      "..                                                ...  \n",
      "0   Two Queen Bed Suite - Non-SmokingPrivate suite...  \n",
      "0   Two Queen Bed Suite - Non-SmokingPrivate suite...  \n",
      "0   Two Queen Bed Suite - Non-SmokingPrivate suite...  \n",
      "0                                                 NaN  \n",
      "0                                                 NaN  \n",
      "\n",
      "[455 rows x 4 columns]\n"
     ]
    },
    {
     "ename": "SyntaxError",
     "evalue": "'break' outside loop (3988095258.py, line 5)",
     "output_type": "error",
     "traceback": [
      "\u001b[0;36m  Input \u001b[0;32mIn [136]\u001b[0;36m\u001b[0m\n\u001b[0;31m    break\u001b[0m\n\u001b[0m    ^\u001b[0m\n\u001b[0;31mSyntaxError\u001b[0m\u001b[0;31m:\u001b[0m 'break' outside loop\n"
     ]
    }
   ],
   "source": [
    "    print(_scraped_data_df)\n",
    "    if _scraped_data_df.shape[0] > 0:\n",
    "        saveTo = _s3object+\"/\"+_fname\n",
    "        _scraped_data_df.to_csv(saveTo)\n",
    "    break"
   ]
  },
  {
   "cell_type": "markdown",
   "metadata": {},
   "source": [
    "# DEPRECATED"
   ]
  },
  {
   "cell_type": "code",
   "execution_count": 65,
   "metadata": {},
   "outputs": [],
   "source": [
    "path = \"../data\"\n",
    "#file = \"property_urls.csv\"\n",
    "file = \"properties.json\"\n",
    "\n",
    "clsScraper = otaws.OTAWebScraper()\n",
    "#property_dict = clsScraper.load_ota_list(dirPath=path, fileName=file)"
   ]
  },
  {
   "cell_type": "code",
   "execution_count": 52,
   "metadata": {
    "scrolled": true
   },
   "outputs": [
    {
     "name": "stdout",
     "output_type": "stream",
     "text": [
      "[{'ota': 'hotels.com', 'page': None, 'checkin': None, 'checkout': None, 'location': None, 'somekey': None}, {'ota': 'hotels.com', 'page': None, 'checkin': None, 'checkout': None, 'location': None, 'somekey': None}]\n",
      "        source       param   tag                  class\n",
      "0  booking.com   room_rate   div            .d20f4628d0\n",
      "1  booking.com   room_type  span            .d20f4628d0\n",
      "2  booking.com  hotel_name  span  fcab3ed991 a23c043802\n",
      "3   hotels.com   room_rate   div            .d20f4628d0\n",
      "4   hotels.com   room_type  span            .d20f4628d0\n",
      "5   hotels.com  hotel_name  span  fcab3ed991 a23c043802\n"
     ]
    }
   ],
   "source": [
    "_ota_input_param_list, _ota_scrape_params = clsScraper.get_scrape_params(property_dict)\n",
    "print(_ota_input_param_list)\n",
    "print(_ota_scrape_param_df)"
   ]
  },
  {
   "cell_type": "code",
   "execution_count": 140,
   "metadata": {},
   "outputs": [
    {
     "name": "stdout",
     "output_type": "stream",
     "text": [
      "        source       param   tag                  class\n",
      "0  booking.com   room_rate   div            .d20f4628d0\n",
      "1  booking.com   room_type  span            .d20f4628d0\n",
      "2  booking.com  hotel_name  span  fcab3ed991 a23c043802\n"
     ]
    }
   ],
   "source": [
    "import pandas as pd\n",
    "\n",
    "param_dict = {}\n",
    "tag_dict = {}\n",
    "_l_tag=[]\n",
    "for prop_detail in property_dict:\n",
    "    for detail in property_dict[prop_detail]:\n",
    "        url = detail['url']\n",
    "        for param in detail['inputs']:\n",
    "            param_dict[param] = None\n",
    "        for tag in detail['outputs']:\n",
    "            for rate in tag['room_rate']:\n",
    "                for key,value in rate.items():\n",
    "                    tag_dict = {\"source\":prop_detail,\n",
    "                                \"param\" : \"room_rate\",\n",
    "                                \"tag\" : key,\n",
    "                                \"class\" : value\n",
    "                               }\n",
    "                    _l_tag.append(tag_dict)\n",
    "            for rate in tag['room_type']:\n",
    "                for key,value in rate.items():\n",
    "                    tag_dict = {\"source\":prop_detail,\n",
    "                                \"param\" : \"room_type\",\n",
    "                                \"tag\" : key,\n",
    "                                \"class\" : value\n",
    "                               }\n",
    "                    _l_tag.append(tag_dict)\n",
    "            for rate in tag['hotel_name']:\n",
    "                for key,value in rate.items():\n",
    "                    tag_dict = {\"source\":prop_detail,\n",
    "                                \"param\" : \"hotel_name\",\n",
    "                                \"tag\" : key,\n",
    "                                \"class\" : value\n",
    "                               }\n",
    "                    _l_tag.append(tag_dict)\n",
    "\n",
    "tag_df = pd.DataFrame(_l_tag,columns=[\"source\",\"param\",\"tag\",\"class\"])\n",
    "print(tag_df)"
   ]
  },
  {
   "cell_type": "code",
   "execution_count": 106,
   "metadata": {},
   "outputs": [
    {
     "name": "stdout",
     "output_type": "stream",
     "text": [
      "b\n"
     ]
    }
   ],
   "source": [
    "param_dict = {\"page\":\"25\",\n",
    "              \"checkin\":\"2022-08-30\",\n",
    "              \"checkout\":\"2022-09-2\",\n",
    "              \"location\":\"Las Vegas\",\n",
    "             }\n",
    "for url in _l_urls:\n",
    "    new_url = clsScraper.insert_params_in_url(url[0],**param_dict)\n",
    "    print(new_url)"
   ]
  },
  {
   "cell_type": "code",
   "execution_count": null,
   "metadata": {},
   "outputs": [],
   "source": []
  }
 ],
 "metadata": {
  "kernelspec": {
   "display_name": "Python 3 (ipykernel)",
   "language": "python",
   "name": "python3"
  },
  "language_info": {
   "codemirror_mode": {
    "name": "ipython",
    "version": 3
   },
   "file_extension": ".py",
   "mimetype": "text/x-python",
   "name": "python",
   "nbconvert_exporter": "python",
   "pygments_lexer": "ipython3",
   "version": "3.8.10"
  },
  "vscode": {
   "interpreter": {
    "hash": "31f2aee4e71d21fbe5cf8b01ff0e069b9275f58929596ceb00d14d90e3e16cd6"
   }
  }
 },
 "nbformat": 4,
 "nbformat_minor": 2
}
