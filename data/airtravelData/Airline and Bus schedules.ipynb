{
 "cells": [
  {
   "cell_type": "markdown",
   "id": "779a2674",
   "metadata": {},
   "source": [
    "# Kayak.com"
   ]
  },
  {
   "cell_type": "code",
   "execution_count": 10,
   "id": "9f868597",
   "metadata": {},
   "outputs": [
    {
     "name": "stdout",
     "output_type": "stream",
     "text": [
      "200\n"
     ]
    }
   ],
   "source": [
    "from bs4 import BeautifulSoup # Import for Beautiful Soup\n",
    "import requests # Import for requests\n",
    "import lxml # Import for lxml parser\n",
    "import datetime\n",
    "\n",
    "main_link = \"https://www.kayak.com/flights/LAX-LAS/2022-09-20/1adults?a&fs=cfc=1;bfc=1;transportation=transportation_plane\"\n",
    "\n",
    "\n",
    "headers = {'User-Agent':'Mozilla/5.0 (X11; Linux x86_64) AppleWebKit/537.36 (KHTML, like Gecko) Chrome/99.0.4844.82 Safari/537.36'}\n",
    "\n",
    "# Request for the URL\n",
    "page = requests.get(main_link, headers=headers)\n",
    "\n",
    "# We can also check the response code\n",
    "print(page.status_code)\n",
    "\n",
    "# Make it a soup\n",
    "soup = BeautifulSoup(page.text,\"lxml\")\n",
    "\n",
    "lists = soup.select(\".resultWrapper\")\n",
    "\n",
    "import csv\n",
    "from csv import writer\n",
    "\n",
    "with open('Airline4.csv', 'a', encoding='utf8', newline='') as f:\n",
    "    fieldnames = ['Date', 'Flight times', 'Stops', 'Duration', 'Rate per person', 'Flight Type', 'OTA site']\n",
    "    thewriter = csv.DictWriter(f, fieldnames=fieldnames)\n",
    "    currentDateTime = datetime.datetime.now()\n",
    "    \n",
    "        \n",
    "    \n",
    "    \n",
    "    for list in lists:\n",
    "        flight_times = list.find('div', class_='section times').text\n",
    "        stops = list.find('div', class_='section stops').text\n",
    "        trip_duration = list.find('div', class_='section duration allow-multi-modal-icons').text\n",
    "        rate_pp = list.find('span', class_='price-text').text\n",
    "        flight_type = list.find('div', class_='above-button').text\n",
    "        site = list.find('span', class_='name-only-text').text \n",
    "        \n",
    "        \n",
    "        thewriter.writerow({'Date': currentDateTime, 'Flight times': flight_times, 'Stops': stops, 'Duration': trip_duration, 'Rate per person': rate_pp, 'Flight Type': flight_type, 'OTA site':site})\n",
    "    \n",
    "            "
   ]
  },
  {
   "cell_type": "markdown",
   "id": "6f85c3b5",
   "metadata": {},
   "source": [
    "# Momondo.com"
   ]
  },
  {
   "cell_type": "code",
   "execution_count": 11,
   "id": "da720957",
   "metadata": {},
   "outputs": [
    {
     "name": "stdout",
     "output_type": "stream",
     "text": [
      "200\n"
     ]
    }
   ],
   "source": [
    "from bs4 import BeautifulSoup # Import for Beautiful Soup\n",
    "import requests # Import for requests\n",
    "import lxml # Import for lxml parser\n",
    "import datetime\n",
    "\n",
    "main_link = \"https://www.momondo.com/flight-search/LAX-LAS/2022-09-20?a&fs=cfc=1;bfc=1;transportation=transportation_plane\"\n",
    "           \n",
    "headers = {'User-Agent':'Mozilla/5.0 (X11; Linux x86_64) AppleWebKit/537.36 (KHTML, like Gecko) Chrome/99.0.4844.82 Safari/537.36'}\n",
    "\n",
    "# Request for the URL\n",
    "page = requests.get(main_link, headers=headers)\n",
    "\n",
    "# We can also check the response code\n",
    "print(page.status_code)\n",
    "\n",
    "# Make it a soup\n",
    "soup = BeautifulSoup(page.text,\"lxml\")\n",
    "\n",
    "lists = soup.select(\".resultWrapper\")\n",
    "\n",
    "import csv\n",
    "from csv import writer\n",
    "\n",
    "\n",
    "with open('Momondo.csv', 'a', encoding='utf8', newline='') as f:\n",
    "    fieldnames = ['Date', 'Flight times', 'Stops', 'Duration', 'Rate per person', 'Flight Type', 'OTA site']\n",
    "    thewriter = csv.DictWriter(f, fieldnames=fieldnames)\n",
    "    currentDateTime = datetime.datetime.now()\n",
    "    \n",
    "        \n",
    "    \n",
    "    \n",
    "    for list in lists:\n",
    "        flight_times = list.find('div', class_='section times').text\n",
    "        stops = list.find('div', class_='section stops').text\n",
    "        trip_duration = list.find('div', class_='section duration allow-multi-modal-icons').text\n",
    "        rate_pp = list.find('span', class_='price-text').text\n",
    "        flight_type = list.find('div', class_='above-button').text\n",
    "        site = list.find('span', class_='name-only-text').text \n",
    "        \n",
    "\n",
    "        thewriter.writerow({'Date': currentDateTime, 'Flight times': flight_times, 'Stops': stops, 'Duration': trip_duration, 'Rate per person': rate_pp, 'Flight Type': flight_type, 'OTA site':site})\n",
    "    \n",
    "  "
   ]
  },
  {
   "cell_type": "code",
   "execution_count": null,
   "id": "52c2b3eb",
   "metadata": {},
   "outputs": [],
   "source": []
  }
 ],
 "metadata": {
  "kernelspec": {
   "display_name": "Python 3",
   "language": "python",
   "name": "python3"
  },
  "language_info": {
   "codemirror_mode": {
    "name": "ipython",
    "version": 3
   },
   "file_extension": ".py",
   "mimetype": "text/x-python",
   "name": "python",
   "nbconvert_exporter": "python",
   "pygments_lexer": "ipython3",
   "version": "3.7.3"
  }
 },
 "nbformat": 4,
 "nbformat_minor": 5
}
