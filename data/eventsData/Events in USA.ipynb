{
 "cells": [
  {
   "cell_type": "markdown",
   "id": "4c7c8294",
   "metadata": {},
   "source": [
    "# 10times.com"
   ]
  },
  {
   "cell_type": "code",
   "execution_count": 26,
   "id": "2d53bc9e",
   "metadata": {},
   "outputs": [
    {
     "name": "stdout",
     "output_type": "stream",
     "text": [
      "200\n"
     ]
    }
   ],
   "source": [
    "from bs4 import BeautifulSoup # Import for Beautiful Soup\n",
    "import requests # Import for requests\n",
    "import lxml # Import for lxml parser\n",
    "import datetime\n",
    "\n",
    "main_link = \"https://10times.com/washington-us?month=november\"\n",
    "\n",
    "\n",
    "headers = {'User-Agent':'Mozilla/5.0 (X11; Linux x86_64) AppleWebKit/537.36 (KHTML, like Gecko) Chrome/99.0.4844.82 Safari/537.36'}\n",
    "\n",
    "# Request for the URL\n",
    "page = requests.get(main_link, headers=headers)\n",
    "\n",
    "# We can also check the response code\n",
    "print(page.status_code)\n",
    "\n",
    "# Make it a soup\n",
    "soup = BeautifulSoup(page.text,\"lxml\")\n",
    "\n",
    "\n",
    "lists = soup.find_all('tr',class_='row py-2 mx-0 mb-3 bg-white deep-shadow event-card')\n",
    "lists\n",
    "\n",
    "\n",
    "import csv\n",
    "from csv import writer\n",
    "\n",
    "with open('events3.csv', 'a', encoding='utf8', newline='') as f:\n",
    "    fieldnames = ['Date', 'Event name', 'Event date', 'Event venue', 'Labels (event type)', 'Number interested']\n",
    "    thewriter = csv.DictWriter(f, fieldnames=fieldnames)\n",
    "    currentDateTime = datetime.datetime.now()\n",
    "    \n",
    "        \n",
    "    \n",
    "    \n",
    "    for list in lists:\n",
    "        event = list.find('span', class_='d-block').text\n",
    "        eventDate = list.find('td', class_='col-12 text-dark').text\n",
    "        venue = list.find('div', class_='small fw-500 venue').text\n",
    "        labels = list.find('td', class_='col-12 small text-muted mb-2').text\n",
    "        interested = list.find('div', class_='small text-center rounded-3 bg-light').text\n",
    "        \n",
    "        \n",
    "        \n",
    "        thewriter.writerow({'Date':currentDateTime, 'Event name':event, 'Event date':eventDate, 'Event venue':venue, 'Labels (event type)':labels, 'Number interested':interested})\n",
    "    \n",
    "            "
   ]
  },
  {
   "cell_type": "code",
   "execution_count": null,
   "id": "69d5fbbf",
   "metadata": {},
   "outputs": [],
   "source": []
  }
 ],
 "metadata": {
  "kernelspec": {
   "display_name": "Python 3",
   "language": "python",
   "name": "python3"
  },
  "language_info": {
   "codemirror_mode": {
    "name": "ipython",
    "version": 3
   },
   "file_extension": ".py",
   "mimetype": "text/x-python",
   "name": "python",
   "nbconvert_exporter": "python",
   "pygments_lexer": "ipython3",
   "version": "3.7.3"
  }
 },
 "nbformat": 4,
 "nbformat_minor": 5
}
