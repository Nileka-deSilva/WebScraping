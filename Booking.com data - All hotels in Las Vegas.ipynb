{
 "cells": [
  {
   "cell_type": "markdown",
   "id": "a1377d4a",
   "metadata": {},
   "source": [
    "# Booking data for 23rd August 2022\n",
    "\n",
    "Looped pages \n",
    "\n",
    "* Have to loop date - for future check-in and check-out dates (1 night)\n",
    "* Need to add column with check-in and check-out date "
   ]
  },
  {
   "cell_type": "code",
   "execution_count": 16,
   "id": "7b50f846",
   "metadata": {},
   "outputs": [],
   "source": [
    "from bs4 import BeautifulSoup # Import for Beautiful Soup\n",
    "import requests # Import for requests\n",
    "import lxml # Import for lxml parser\n",
    "\n",
    "import datetime\n",
    "\n",
    "\n",
    "page= 0\n",
    "\n",
    "while page != 150:\n",
    "    url = f\"https://www.booking.com/searchresults.en-gb.html?aid=318615&label=New_English_EN_USD_27026936425-5WQxik%2A5vqjOdJbH0vs4ggS217290507247%3Apl%3Ata%3Ap1%3Ap2%3Aac%3Aap%3Aneg%3Afi2642648920%3Atidsa-302962658775%3Alp9069783%3Ali%3Adec%3Adm&sid=6ffc8b26c9bbcc341461e4b1a20a470c&tmpl=searchresults&checkin=2022-08-23&checkout=2022-08-24&class_interval=1&dest_id=20079110&dest_type=city&dtdisc=0&group_adults=1&group_children=0&highlighted_hotels=580015&inac=0&index_postcard=0&label_click=undef&nflt=%3Bht_id%3D204&no_rooms=1&offset=0&postcard=0&raw_dest_type=city&room1=A&sb_price_type=total&sb_travel_purpose=leisure&shw_aparth=1&slp_r_match=0&src=searchresults&srpvid=dabe52a917840104&ss=Las%20Vegas&ss_all=0&ssb=empty&sshis=0&ssne=Las%20Vegas&ssne_untouched=Las%20Vegas&changed_currency=1&selected_currency=USD&offset={page}\"\n",
    "    page = page + 25\n",
    "\n",
    "    headers = {'User-Agent':'Mozilla/5.0 (X11; Linux x86_64) AppleWebKit/537.36 (KHTML, like Gecko) Chrome/99.0.4844.82 Safari/537.36'}\n",
    "    response = requests.get(url, headers=headers)\n",
    "    # Make it a soup\n",
    "    soup = BeautifulSoup(response.text,\"lxml\")\n",
    "\n",
    "    lists = soup.select(\".d20f4628d0\")\n",
    "\n",
    "    lists2 = soup.select(\".c8305f6688\")\n",
    "    \n",
    "    import csv\n",
    "    from csv import writer\n",
    "\n",
    "    with open('Book1.csv', 'a', encoding='utf8', newline='') as f:\n",
    "        fieldnames = ['Date', 'Hotel', 'Room Type', 'Rate']\n",
    "        thewriter = csv.DictWriter(f, fieldnames=fieldnames)\n",
    "        currentDateTime = datetime.datetime.now()\n",
    "\n",
    "        \n",
    "        \n",
    "        for list in lists:\n",
    "            hotel = list.find('div', class_='fcab3ed991 a23c043802').text\n",
    "            room_type = list.find('span', class_='df597226dd').text\n",
    "            room_rate = list.find('span', class_='fcab3ed991 bd73d13072').text\n",
    "    \n",
    "        \n",
    "            thewriter.writerow({'Date': currentDateTime, 'Hotel':hotel, 'Room Type':room_type , 'Rate': room_rate})\n"
   ]
  },
  {
   "cell_type": "code",
   "execution_count": null,
   "id": "5ff6dd5c",
   "metadata": {},
   "outputs": [],
   "source": []
  }
 ],
 "metadata": {
  "kernelspec": {
   "display_name": "Python 3 (ipykernel)",
   "language": "python",
   "name": "python3"
  },
  "language_info": {
   "codemirror_mode": {
    "name": "ipython",
    "version": 3
   },
   "file_extension": ".py",
   "mimetype": "text/x-python",
   "name": "python",
   "nbconvert_exporter": "python",
   "pygments_lexer": "ipython3",
   "version": "3.10.1"
  }
 },
 "nbformat": 4,
 "nbformat_minor": 5
}
